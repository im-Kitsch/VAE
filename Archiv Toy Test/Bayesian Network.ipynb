{
 "cells": [
  {
   "cell_type": "code",
   "execution_count": 1,
   "metadata": {},
   "outputs": [
    {
     "name": "stderr",
     "output_type": "stream",
     "text": [
      "/home/zhiyuan/anaconda3/envs/VInference/lib/python3.6/site-packages/ipykernel_launcher.py:28: DeprecationWarning: object of type <class 'float'> cannot be safely interpreted as an integer.\n",
      "/home/zhiyuan/anaconda3/envs/VInference/lib/python3.6/site-packages/ipykernel_launcher.py:29: DeprecationWarning: object of type <class 'float'> cannot be safely interpreted as an integer.\n",
      "/home/zhiyuan/anaconda3/envs/VInference/lib/python3.6/site-packages/edward/util/random_variables.py:52: FutureWarning: Conversion of the second argument of issubdtype from `float` to `np.floating` is deprecated. In future, it will be treated as `np.float64 == np.dtype(float).type`.\n",
      "  not np.issubdtype(value.dtype, np.float) and \\\n"
     ]
    },
    {
     "name": "stdout",
     "output_type": "stream",
     "text": [
      "1000/1000 [100%] ██████████████████████████████ Elapsed: 3s | Loss: 680.628\n"
     ]
    },
    {
     "ename": "SystemExit",
     "evalue": "",
     "output_type": "error",
     "traceback": [
      "An exception has occurred, use %tb to see the full traceback.\n",
      "\u001b[0;31mSystemExit\u001b[0m\n"
     ]
    },
    {
     "name": "stderr",
     "output_type": "stream",
     "text": [
      "/home/zhiyuan/.local/lib/python3.6/site-packages/IPython/core/interactiveshell.py:3275: UserWarning: To exit: use 'exit', 'quit', or Ctrl-D.\n",
      "  warn(\"To exit: use 'exit', 'quit', or Ctrl-D.\", stacklevel=1)\n"
     ]
    }
   ],
   "source": [
    "\"\"\"Bayesian neural network using variational inference\n",
    "(see, e.g., Blundell et al. (2015); Kucukelbir et al. (2016)).\n",
    "Inspired by autograd's Bayesian neural network example.\n",
    "This example prettifies some of the tensor naming for visualization in\n",
    "TensorBoard. To view TensorBoard, run `tensorboard --logdir=log`.\n",
    "References\n",
    "----------\n",
    "http://edwardlib.org/tutorials/bayesian-neural-network\n",
    "\"\"\"\n",
    "from __future__ import absolute_import\n",
    "from __future__ import division\n",
    "from __future__ import print_function\n",
    "\n",
    "import edward as ed\n",
    "import numpy as np\n",
    "import tensorflow as tf\n",
    "\n",
    "from edward.models import Normal\n",
    "\n",
    "tf.flags.DEFINE_integer(\"N\", default=40, help=\"Number of data points.\")\n",
    "tf.flags.DEFINE_integer(\"D\", default=1, help=\"Number of features.\")\n",
    "\n",
    "FLAGS = tf.flags.FLAGS\n",
    "\n",
    "\n",
    "def build_toy_dataset(N=40, noise_std=0.1):\n",
    "  D = 1\n",
    "  X = np.concatenate([np.linspace(0, 2, num=N / 2),\n",
    "                      np.linspace(6, 8, num=N / 2)])\n",
    "  y = np.cos(X) + np.random.normal(0, noise_std, size=N)\n",
    "  X = (X - 4.0) / 4.0\n",
    "  X = X.reshape((N, D))\n",
    "  return X, y\n",
    "\n",
    "\n",
    "def main(_):\n",
    "  def neural_network(X):\n",
    "    h = tf.tanh(tf.matmul(X, W_0) + b_0)\n",
    "    h = tf.tanh(tf.matmul(h, W_1) + b_1)\n",
    "    h = tf.matmul(h, W_2) + b_2\n",
    "    return tf.reshape(h, [-1])\n",
    "  ed.set_seed(42)\n",
    "\n",
    "  # DATA\n",
    "  X_train, y_train = build_toy_dataset(FLAGS.N)\n",
    "\n",
    "  # MODEL\n",
    "  with tf.name_scope(\"model\"):\n",
    "    W_0 = Normal(loc=tf.zeros([FLAGS.D, 10]), scale=tf.ones([FLAGS.D, 10]),\n",
    "                 name=\"W_0\")\n",
    "    W_1 = Normal(loc=tf.zeros([10, 10]), scale=tf.ones([10, 10]), name=\"W_1\")\n",
    "    W_2 = Normal(loc=tf.zeros([10, 1]), scale=tf.ones([10, 1]), name=\"W_2\")\n",
    "    b_0 = Normal(loc=tf.zeros(10), scale=tf.ones(10), name=\"b_0\")\n",
    "    b_1 = Normal(loc=tf.zeros(10), scale=tf.ones(10), name=\"b_1\")\n",
    "    b_2 = Normal(loc=tf.zeros(1), scale=tf.ones(1), name=\"b_2\")\n",
    "\n",
    "    X = tf.placeholder(tf.float32, [FLAGS.N, FLAGS.D], name=\"X\")\n",
    "    y = Normal(loc=neural_network(X), scale=0.1 * tf.ones(FLAGS.N), name=\"y\")\n",
    "\n",
    "  # INFERENCE\n",
    "  with tf.variable_scope(\"posterior\"):\n",
    "    with tf.variable_scope(\"qW_0\"):\n",
    "      loc = tf.get_variable(\"loc\", [FLAGS.D, 10])\n",
    "      scale = tf.nn.softplus(tf.get_variable(\"scale\", [FLAGS.D, 10]))\n",
    "      qW_0 = Normal(loc=loc, scale=scale)\n",
    "    with tf.variable_scope(\"qW_1\"):\n",
    "      loc = tf.get_variable(\"loc\", [10, 10])\n",
    "      scale = tf.nn.softplus(tf.get_variable(\"scale\", [10, 10]))\n",
    "      qW_1 = Normal(loc=loc, scale=scale)\n",
    "    with tf.variable_scope(\"qW_2\"):\n",
    "      loc = tf.get_variable(\"loc\", [10, 1])\n",
    "      scale = tf.nn.softplus(tf.get_variable(\"scale\", [10, 1]))\n",
    "      qW_2 = Normal(loc=loc, scale=scale)\n",
    "    with tf.variable_scope(\"qb_0\"):\n",
    "      loc = tf.get_variable(\"loc\", [10])\n",
    "      scale = tf.nn.softplus(tf.get_variable(\"scale\", [10]))\n",
    "      qb_0 = Normal(loc=loc, scale=scale)\n",
    "    with tf.variable_scope(\"qb_1\"):\n",
    "      loc = tf.get_variable(\"loc\", [10])\n",
    "      scale = tf.nn.softplus(tf.get_variable(\"scale\", [10]))\n",
    "      qb_1 = Normal(loc=loc, scale=scale)\n",
    "    with tf.variable_scope(\"qb_2\"):\n",
    "      loc = tf.get_variable(\"loc\", [1])\n",
    "      scale = tf.nn.softplus(tf.get_variable(\"scale\", [1]))\n",
    "      qb_2 = Normal(loc=loc, scale=scale)\n",
    "\n",
    "  inference = ed.KLqp({W_0: qW_0, b_0: qb_0,\n",
    "                       W_1: qW_1, b_1: qb_1,\n",
    "                       W_2: qW_2, b_2: qb_2}, data={X: X_train, y: y_train})\n",
    "  inference.run(logdir='log')\n",
    "\n",
    "if __name__ == \"__main__\":\n",
    "  tf.app.run()\n"
   ]
  }
 ],
 "metadata": {
  "@webio": {
   "lastCommId": "44536052879743288d759345d6acb702",
   "lastKernelId": "abf56e25-b147-4379-9684-aae0610f679a"
  },
  "kernelspec": {
   "display_name": "VInference",
   "language": "python",
   "name": "vinference"
  },
  "language_info": {
   "codemirror_mode": {
    "name": "ipython",
    "version": 3
   },
   "file_extension": ".py",
   "mimetype": "text/x-python",
   "name": "python",
   "nbconvert_exporter": "python",
   "pygments_lexer": "ipython3",
   "version": "3.6.5"
  }
 },
 "nbformat": 4,
 "nbformat_minor": 2
}
