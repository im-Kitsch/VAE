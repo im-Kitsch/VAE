{
 "cells": [
  {
   "cell_type": "code",
   "execution_count": null,
   "metadata": {},
   "outputs": [],
   "source": []
  }
 ],
 "metadata": {
  "@webio": {
   "lastCommId": "e59b59702dfc4d968dc55c586008cbe7",
   "lastKernelId": "d7f56495-8030-4bc1-81b0-4a1759a4885a"
  },
  "kernelspec": {
   "display_name": "VInference",
   "language": "python",
   "name": "vinference"
  },
  "language_info": {
   "codemirror_mode": {
    "name": "ipython",
    "version": 3
   },
   "file_extension": ".py",
   "mimetype": "text/x-python",
   "name": "python",
   "nbconvert_exporter": "python",
   "pygments_lexer": "ipython3",
   "version": "3.6.5"
  }
 },
 "nbformat": 4,
 "nbformat_minor": 2
}
